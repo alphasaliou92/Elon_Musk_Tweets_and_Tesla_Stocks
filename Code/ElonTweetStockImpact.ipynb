{
 "cells": [
  {
   "cell_type": "code",
   "execution_count": 25,
   "metadata": {},
   "outputs": [
    {
     "name": "stderr",
     "output_type": "stream",
     "text": [
      "[nltk_data] Downloading package punkt to /home/codespace/nltk_data...\n",
      "[nltk_data]   Package punkt is already up-to-date!\n",
      "[nltk_data] Downloading package brown to /home/codespace/nltk_data...\n",
      "[nltk_data]   Package brown is already up-to-date!\n"
     ]
    }
   ],
   "source": [
    "import textblob\n",
    "from textblob import TextBlob\n",
    "import nltk\n",
    "nltk.download('punkt')\n",
    "nltk.download('brown')\n",
    "from nltk.corpus import brown\n",
    "import pandas as pd\n",
    "\n",
    "import numpy as np\n",
    "\n",
    "import matplotlib as mpl\n",
    "import matplotlib.pyplot as plt\n",
    "\n",
    "import seaborn as sns\n",
    "import seaborn.objects as so\n"
   ]
  },
  {
   "cell_type": "code",
   "execution_count": null,
   "metadata": {},
   "outputs": [],
   "source": []
  },
  {
   "cell_type": "code",
   "execution_count": 26,
   "metadata": {},
   "outputs": [],
   "source": [
    "tesla_stocks_df = pd.read_csv('../Data/tesla_stocks.csv')\n",
    "tsdf=tesla_stocks_df.copy(deep=True)\n",
    "\n",
    "#elon_musk_df = pd.read_csv('../Data/elonmusk.csv')\n",
    "elon_musk_df = pd.read_csv('../Data/elonmusk.csv', usecols = ['date','tweet'])\n",
    "\n",
    "emdf=elon_musk_df.copy(deep=True)\n",
    "\n",
    "#print(\"Tesla Stocks Dataframe Head is: \\n\")\n",
    "#print(tsdf.head())\n",
    "#print(\"Elon Musk Dataframe Head is: \\n\")\n",
    "#print(emdf.head())"
   ]
  },
  {
   "cell_type": "code",
   "execution_count": 46,
   "metadata": {},
   "outputs": [
    {
     "name": "stdout",
     "output_type": "stream",
     "text": [
      "-0.6999999999999998\n",
      "9286\n"
     ]
    }
   ],
   "source": [
    "text = \"apple is bad\"\n",
    "\n",
    "blob = TextBlob(text)\n",
    "print(blob.sentiment.polarity)\n",
    "\n",
    "\n",
    "TextBlob(emdf.tweet[0]).sentiment.polarity\n",
    "\n",
    "#pd.set_option('display.max_columns', 20)\n",
    "#pd.set_option('display.max_rows', 10)\n",
    "\n",
    "print(len(emdf))"
   ]
  },
  {
   "cell_type": "code",
   "execution_count": 50,
   "metadata": {},
   "outputs": [],
   "source": [
    "avg_sentiment = []\n",
    "date_list = []\n",
    "\n",
    "n = 0\n",
    "\n",
    "\n",
    "while n < len(emdf)-1:\n",
    "    avg = TextBlob(emdf.tweet[n]).sentiment.polarity\n",
    "    cnt = 1\n",
    "    day = emdf.date[n]\n",
    "    n += 1\n",
    "\n",
    "    while day == emdf.date[n]:\n",
    "        avg += TextBlob(emdf.tweet[n]).sentiment.polarity\n",
    "        n += 1\n",
    "        cnt += 1\n",
    "    avg /= cnt\n",
    "    avg_sentiment.append(avg)\n",
    "    date_list.append(day)\n",
    "\n",
    "avg_sentiment.reverse()\n",
    "date_list.reverse()\n",
    "dict = {'avg_sent_score': avg_sentiment, 'date': date_list}\n",
    "df = pd.DataFrame(dict)\n",
    "df.to_csv('../Data/avg_tweet_sent_score_day.csv', index=False, header=True)\n",
    "\n",
    "\n",
    "\n"
   ]
  },
  {
   "cell_type": "code",
   "execution_count": null,
   "metadata": {},
   "outputs": [
    {
     "name": "stdout",
     "output_type": "stream",
     "text": [
      "0.2573684210526315\n",
      "-0.07599844901124474\n",
      "-0.12159999999999993\n",
      "-0.1652173913043478\n",
      "-0.1945\n",
      "-0.03658536585365844\n",
      "0.0817843866171003\n",
      "-0.01023890784982936\n",
      "-0.050139275766016636\n",
      "0.043128234617596295\n"
     ]
    }
   ],
   "source": [
    "for x in range(10):\n",
    "    print((tsdf.Close[x] - tsdf.Open[x]) / tsdf.Open[x])"
   ]
  },
  {
   "cell_type": "code",
   "execution_count": 66,
   "metadata": {},
   "outputs": [],
   "source": [
    "daily_return = []\n",
    "date_list = []\n",
    "n = 0\n",
    "\n",
    "while n < len(tsdf)-1:\n",
    "    day = tsdf.Date[n]\n",
    "    if day > '2015-01-30' and day < '2020-07-14':\n",
    "        daily_value = (tsdf.Close[n] - tsdf.Open[n]) / tsdf.Open[n]\n",
    "        daily_return.append(daily_value)\n",
    "        date_list.append(day)\n",
    "    n += 1\n",
    "\n",
    "dict = {'daily_return': daily_return, 'date': date_list}\n",
    "df = pd.DataFrame(dict)\n",
    "   \n",
    "df.to_csv('../Data/daily_return_day.csv', index = False, header=True)"
   ]
  },
  {
   "cell_type": "code",
   "execution_count": 65,
   "metadata": {},
   "outputs": [
    {
     "data": {
      "text/plain": [
       "True"
      ]
     },
     "execution_count": 65,
     "metadata": {},
     "output_type": "execute_result"
    }
   ],
   "source": [
    "'2015-02-08' < '2020-07-14'"
   ]
  },
  {
   "cell_type": "code",
   "execution_count": 2,
   "metadata": {},
   "outputs": [],
   "source": [
    "#some links that we looked at:\n",
    "#https://stackoverflow.com/questions/58867452/drop-rows-from-pandas-dataframe-according-to-date\n",
    "#https://www.geeksforgeeks.org/python-delete-rows-columns-from-dataframe-using-pandas-drop/\n",
    "#https://www.geeksforgeeks.org/saving-a-pandas-dataframe-as-a-csv/\n",
    "#https://www.geeksforgeeks.org/creating-a-pandas-dataframe/\n"
   ]
  },
  {
   "cell_type": "markdown",
   "metadata": {},
   "source": []
  }
 ],
 "metadata": {
  "kernelspec": {
   "display_name": "Python 3 (ipykernel)",
   "language": "python",
   "name": "python3"
  },
  "language_info": {
   "codemirror_mode": {
    "name": "ipython",
    "version": 3
   },
   "file_extension": ".py",
   "mimetype": "text/x-python",
   "name": "python",
   "nbconvert_exporter": "python",
   "pygments_lexer": "ipython3",
   "version": "3.10.4"
  },
  "orig_nbformat": 4
 },
 "nbformat": 4,
 "nbformat_minor": 2
}
