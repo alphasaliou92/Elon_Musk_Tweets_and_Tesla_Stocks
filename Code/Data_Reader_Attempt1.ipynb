{
 "cells": [
  {
   "cell_type": "code",
   "execution_count": 1,
   "id": "46f4f57b",
   "metadata": {},
   "outputs": [],
   "source": [
    "#imports\n",
    "#https://seaborn.pydata.org/installing.html\n",
    "import numpy as np\n",
    "import pandas as pd\n",
    "\n",
    "import matplotlib as mpl\n",
    "import matplotlib.pyplot as plt\n",
    "\n",
    "import seaborn as sns\n",
    "import seaborn.objects as so\n",
    "\n",
    "\n",
    "print(1)\n",
    "\n",
    "\n",
    "\n",
    "\n",
    "\n"
   ]
  },
  {
   "cell_type": "code",
   "execution_count": 3,
   "id": "99881194",
   "metadata": {},
   "outputs": [
    {
     "name": "stdout",
     "output_type": "stream",
     "text": [
      "Tesla Stocks Dataframe Head is: \n",
      "\n",
      "         Date   Open   High    Low  Close  Adj Close    Volume\n",
      "0  2010-06-29  3.800  5.000  3.508  4.778      4.778  93831500\n",
      "1  2010-06-30  5.158  6.084  4.660  4.766      4.766  85935500\n",
      "2  2010-07-01  5.000  5.184  4.054  4.392      4.392  41094000\n",
      "3  2010-07-02  4.600  4.620  3.742  3.840      3.840  25699000\n",
      "4  2010-07-06  4.000  4.000  3.166  3.222      3.222  34334500\n",
      "Elon Musk Dataframe Head is: \n",
      "\n",
      "                    id      conversation_id     created_at        date  \\\n",
      "0  1282939902531796993  1282933079431151618  1594711683000  2020-07-14   \n",
      "1  1282844872571904000  1282801938111791104  1594689026000  2020-07-14   \n",
      "2  1282805559834492929  1282758532312584193  1594679653000  2020-07-13   \n",
      "3  1282800187308572672  1282671714657157120  1594678372000  2020-07-13   \n",
      "4  1282800078000803840  1282739486816964615  1594678346000  2020-07-13   \n",
      "\n",
      "       time timezone   user_id  username       name  place  ... geo source  \\\n",
      "0  07:28:03      UTC  44196397  elonmusk  Elon Musk    NaN  ... NaN    NaN   \n",
      "1  01:10:26      UTC  44196397  elonmusk  Elon Musk    NaN  ... NaN    NaN   \n",
      "2  22:34:13      UTC  44196397  elonmusk  Elon Musk    NaN  ... NaN    NaN   \n",
      "3  22:12:52      UTC  44196397  elonmusk  Elon Musk    NaN  ... NaN    NaN   \n",
      "4  22:12:26      UTC  44196397  elonmusk  Elon Musk    NaN  ... NaN    NaN   \n",
      "\n",
      "  user_rt_id user_rt  retweet_id  \\\n",
      "0        NaN     NaN         NaN   \n",
      "1        NaN     NaN         NaN   \n",
      "2        NaN     NaN         NaN   \n",
      "3        NaN     NaN         NaN   \n",
      "4        NaN     NaN         NaN   \n",
      "\n",
      "                                            reply_to  retweet_date translate  \\\n",
      "0  [{'user_id': '44196397', 'username': 'elonmusk...           NaN       NaN   \n",
      "1  [{'user_id': '44196397', 'username': 'elonmusk...           NaN       NaN   \n",
      "2  [{'user_id': '44196397', 'username': 'elonmusk...           NaN       NaN   \n",
      "3  [{'user_id': '44196397', 'username': 'elonmusk...           NaN       NaN   \n",
      "4  [{'user_id': '44196397', 'username': 'elonmusk...           NaN       NaN   \n",
      "\n",
      "  trans_src trans_dest  \n",
      "0       NaN        NaN  \n",
      "1       NaN        NaN  \n",
      "2       NaN        NaN  \n",
      "3       NaN        NaN  \n",
      "4       NaN        NaN  \n",
      "\n",
      "[5 rows x 34 columns]\n"
     ]
    }
   ],
   "source": [
    "# Load the datasets\n",
    "tesla_stocks_df = pd.read_csv('../Data/tesla_stocks.csv')\n",
    "tsdf=tesla_stocks_df.copy(deep=True)\n",
    "\n",
    "elon_musk_df = pd.read_csv('../Data/elonmusk.csv')\n",
    "emdf=elon_musk_df.copy(deep=True)\n",
    "\n",
    "print(\"Tesla Stocks Dataframe Head is: \\n\")\n",
    "print(tsdf.head())\n",
    "print(\"Elon Musk Dataframe Head is: \\n\")\n",
    "print(emdf.head())\n",
    "#heelooooo"
   ]
  },
  {
   "cell_type": "code",
   "execution_count": null,
   "id": "2a1e0cbd",
   "metadata": {},
   "outputs": [],
   "source": []
  }
 ],
 "metadata": {
  "kernelspec": {
   "display_name": "Python 3 (ipykernel)",
   "language": "python",
   "name": "python3"
  },
  "language_info": {
   "codemirror_mode": {
    "name": "ipython",
    "version": 3
   },
   "file_extension": ".py",
   "mimetype": "text/x-python",
   "name": "python",
   "nbconvert_exporter": "python",
   "pygments_lexer": "ipython3",
   "version": "3.10.4"
  }
 },
 "nbformat": 4,
 "nbformat_minor": 5
}
